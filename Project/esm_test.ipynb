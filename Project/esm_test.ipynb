{
 "cells": [
  {
   "attachments": {},
   "cell_type": "markdown",
   "metadata": {},
   "source": [
    "# Progress Report"
   ]
  },
  {
   "cell_type": "code",
   "execution_count": 19,
   "metadata": {},
   "outputs": [],
   "source": [
    "import torch\n",
    "import esm\n",
    "import pandas as pd\n",
    "import requests\n",
    "import os\n",
    "from tqdm import tqdm\n",
    "import numpy as np\n",
    "from sequence_models.pretrained import load_model_and_alphabet"
   ]
  },
  {
   "cell_type": "code",
   "execution_count": 3,
   "metadata": {},
   "outputs": [
    {
     "data": {
      "text/plain": [
       "ESM2(\n",
       "  (embed_tokens): Embedding(33, 1280, padding_idx=1)\n",
       "  (layers): ModuleList(\n",
       "    (0-32): 33 x TransformerLayer(\n",
       "      (self_attn): MultiheadAttention(\n",
       "        (k_proj): Linear(in_features=1280, out_features=1280, bias=True)\n",
       "        (v_proj): Linear(in_features=1280, out_features=1280, bias=True)\n",
       "        (q_proj): Linear(in_features=1280, out_features=1280, bias=True)\n",
       "        (out_proj): Linear(in_features=1280, out_features=1280, bias=True)\n",
       "        (rot_emb): RotaryEmbedding()\n",
       "      )\n",
       "      (self_attn_layer_norm): LayerNorm((1280,), eps=1e-05, elementwise_affine=True)\n",
       "      (fc1): Linear(in_features=1280, out_features=5120, bias=True)\n",
       "      (fc2): Linear(in_features=5120, out_features=1280, bias=True)\n",
       "      (final_layer_norm): LayerNorm((1280,), eps=1e-05, elementwise_affine=True)\n",
       "    )\n",
       "  )\n",
       "  (contact_head): ContactPredictionHead(\n",
       "    (regression): Linear(in_features=660, out_features=1, bias=True)\n",
       "    (activation): Sigmoid()\n",
       "  )\n",
       "  (emb_layer_norm_after): LayerNorm((1280,), eps=1e-05, elementwise_affine=True)\n",
       "  (lm_head): RobertaLMHead(\n",
       "    (dense): Linear(in_features=1280, out_features=1280, bias=True)\n",
       "    (layer_norm): LayerNorm((1280,), eps=1e-05, elementwise_affine=True)\n",
       "  )\n",
       ")"
      ]
     },
     "execution_count": 3,
     "metadata": {},
     "output_type": "execute_result"
    }
   ],
   "source": [
    "# Load Model\n",
    "model, alphabet = esm.pretrained.esm2_t33_650M_UR50D()\n",
    "batch_converter = alphabet.get_batch_converter()\n",
    "model.eval()\n"
   ]
  },
  {
   "cell_type": "code",
   "execution_count": 4,
   "metadata": {},
   "outputs": [
    {
     "name": "stderr",
     "output_type": "stream",
     "text": [
      "/Users/esmirmesic/opt/anaconda3/envs/cs144/lib/python3.11/site-packages/openpyxl/worksheet/_reader.py:329: UserWarning: Unknown extension is not supported and will be removed\n",
      "  warn(msg)\n"
     ]
    }
   ],
   "source": [
    "# Load Data\n",
    "url = \"https://elifesciences.org/download/aHR0cHM6Ly9jZG4uZWxpZmVzY2llbmNlcy5vcmcvYXJ0aWNsZXMvMTY5NjUvZWxpZmUtMTY5NjUtc3VwcDEtdjQueGxzelife-16965-supp1-v4.xlsx?_hash=UsG4XAO0qnBOtjEvbXpBgu%2FazhuWskkDqs417%2BIpaAM%3D\"\n",
    "r = requests.get(url, allow_redirects=True)\n",
    "filepath = 'data/gb1data.xlsx'\n",
    "if not os.path.exists(filepath):\n",
    "    with open(filepath, 'wb') as f:\n",
    "        f.write(r.content)\n",
    "GB1_data = pd.read_excel(filepath)"
   ]
  },
  {
   "cell_type": "code",
   "execution_count": 5,
   "metadata": {},
   "outputs": [],
   "source": [
    "# Load sequences\n",
    "with open(\"data/GB1_Wu_2016.fasta\", \"r\") as f:\n",
    "    f.readline() # Skip the header\n",
    "    wildtype = f.read().replace(\"\\n\", \"\")\n",
    "\n",
    "sites = [39, 40, 41, 54]"
   ]
  },
  {
   "cell_type": "code",
   "execution_count": 6,
   "metadata": {},
   "outputs": [],
   "source": [
    "# One-hot encode sequences\n",
    "aa_list = [\"A\", \"C\", \"D\", \"E\", \"F\", \"G\", \"H\", \"I\", \"K\", \"L\", \"M\", \"N\", \"P\",\"Q\", \"R\", \"S\", \"T\", \"V\", \"W\", \"Y\"]\n",
    "aa_to_onehot = {aa: np.eye(len(aa_list))[i] for i, aa in enumerate(aa_list)}\n",
    "# Create a one-hot encoding for the wild-type sequence\n",
    "onehot_wildtype = np.array([aa_to_onehot[aa] for aa in wildtype])\n",
    "\n",
    "def encode_mutants_onehot(row, onehot_wildtype):\n",
    "    mutant = onehot_wildtype.copy()\n",
    "    mutations = row['Variants']\n",
    "    for i, mutation in enumerate(mutations):\n",
    "        mutant[sites[i]-1] = aa_to_onehot[mutation]\n",
    "    return mutant\n",
    "def encode_sequence(row, wild):\n",
    "    mutant = list(wild)\n",
    "    mutations = row['Variants']\n",
    "    for i, mutation in enumerate(mutations):\n",
    "        mutant[sites[i]-1] = mutation\n",
    "    mutant = \"\".join(mutant)\n",
    "    return mutant"
   ]
  },
  {
   "cell_type": "code",
   "execution_count": 7,
   "metadata": {},
   "outputs": [
    {
     "name": "stderr",
     "output_type": "stream",
     "text": [
      "100%|██████████| 149361/149361 [00:01<00:00, 100997.67it/s]\n",
      "100%|██████████| 149361/149361 [00:00<00:00, 192352.05it/s]\n"
     ]
    }
   ],
   "source": [
    "# Apply processing for dataframe to get sequence/onehot\n",
    "rows = len(GB1_data)\n",
    "tqdm.pandas(total=rows)\n",
    "GB1_data['onehot_sequence'] = GB1_data.progress_apply(lambda row: encode_mutants_onehot(row, onehot_wildtype), axis=1)\n",
    "GB1_data['full_sequence'] = GB1_data.progress_apply(lambda row: encode_sequence(row, wildtype), axis=1)"
   ]
  },
  {
   "cell_type": "code",
   "execution_count": 9,
   "metadata": {},
   "outputs": [
    {
     "data": {
      "text/plain": [
       "'MQYKLILNGKTLKGETTTEAVDAATAEKVFKQYANDNG<mask><mask><mask>EWTYDDATKTFT<mask>TE'"
      ]
     },
     "execution_count": 9,
     "metadata": {},
     "output_type": "execute_result"
    }
   ],
   "source": [
    "# Get masked sequence\n",
    "to_mask_sequence = list(wildtype)\n",
    "for site in sites:\n",
    "    to_mask_sequence[site-1] = \"<mask>\"\n",
    "masked_sequence = \"\".join(to_mask_sequence)\n",
    "masked_sequence"
   ]
  },
  {
   "cell_type": "code",
   "execution_count": 11,
   "metadata": {},
   "outputs": [],
   "source": [
    "# Add data\n",
    "data = [\n",
    "    (\"GB1\", masked_sequence),\n",
    "]"
   ]
  },
  {
   "cell_type": "code",
   "execution_count": 12,
   "metadata": {},
   "outputs": [],
   "source": [
    "def get_prediction(data):\n",
    "    # Prepare data (first 2 sequences from ESMStructuralSplitDataset superfamily / 4)\n",
    "    batch_labels, batch_strs, batch_tokens = batch_converter(data)\n",
    "    batch_lens = (batch_tokens != alphabet.padding_idx).sum(1)\n",
    "\n",
    "    # Extract per-residue representations (on CPU)\n",
    "    with torch.no_grad():\n",
    "        results = model(batch_tokens, repr_layers=[33], return_contacts=True)\n",
    "    token_representations = results[\"representations\"][33]\n",
    "\n",
    "    # Generate per-sequence representations via averaging\n",
    "    # NOTE: token 0 is always a beginning-of-sequence token, so the first residue is token 1.\n",
    "    sequence_representations = []\n",
    "    for i, tokens_len in enumerate(batch_lens):\n",
    "        sequence_representations.append(token_representations[i, 1 : tokens_len - 1].mean(0))\n",
    "\n",
    "    # Look at the unsupervised self-attention map contact predictions\n",
    "    import matplotlib.pyplot as plt\n",
    "    for (_, seq), tokens_len, attention_contacts in zip(data, batch_lens, results[\"contacts\"]):\n",
    "        plt.matshow(attention_contacts[: tokens_len, : tokens_len])\n",
    "        plt.title(seq)\n",
    "        plt.show()\n",
    "    predicted_tokens = torch.argmax(results[\"logits\"], dim=-1)\n",
    "    predicted_sequence = \"\".join([alphabet.all_toks[token_idx.item()] for token_idx in predicted_tokens[0]])[5:-5]\n",
    "    return predicted_sequence"
   ]
  },
  {
   "cell_type": "code",
   "execution_count": 13,
   "metadata": {},
   "outputs": [
    {
     "data": {
      "image/png": "[encoded data removed]",
      "text/plain": [
       "<Figure size 480x480 with 1 Axes>"
      ]
     },
     "metadata": {},
     "output_type": "display_data"
    }
   ],
   "source": [
    "predicted_sequence = get_prediction(data)"
   ]
  },
  {
   "cell_type": "code",
   "execution_count": 15,
   "metadata": {},
   "outputs": [],
   "source": [
    "def get_variant(predicted_sequence, gb1_data):\n",
    "    variant = \"\".join([predicted_sequence[site-1] for site in sites])\n",
    "    return gb1_data[gb1_data['Variants'] == variant]"
   ]
  },
  {
   "cell_type": "code",
   "execution_count": 16,
   "metadata": {},
   "outputs": [],
   "source": [
    "variant_prediction = get_variant(predicted_sequence, GB1_data)"
   ]
  },
  {
   "cell_type": "code",
   "execution_count": 17,
   "metadata": {},
   "outputs": [
    {
     "data": {
      "text/html": [
       "<div>\n",
       "<style scoped>\n",
       "    .dataframe tbody tr th:only-of-type {\n",
       "        vertical-align: middle;\n",
       "    }\n",
       "\n",
       "    .dataframe tbody tr th {\n",
       "        vertical-align: top;\n",
       "    }\n",
       "\n",
       "    .dataframe thead th {\n",
       "        text-align: right;\n",
       "    }\n",
       "</style>\n",
       "<table border=\"1\" class=\"dataframe\">\n",
       "  <thead>\n",
       "    <tr style=\"text-align: right;\">\n",
       "      <th></th>\n",
       "      <th>Variants</th>\n",
       "      <th>HD</th>\n",
       "      <th>Count input</th>\n",
       "      <th>Count selected</th>\n",
       "      <th>Fitness</th>\n",
       "      <th>onehot_sequence</th>\n",
       "      <th>full_sequence</th>\n",
       "    </tr>\n",
       "  </thead>\n",
       "  <tbody>\n",
       "    <tr>\n",
       "      <th>12083</th>\n",
       "      <td>LTGL</td>\n",
       "      <td>3</td>\n",
       "      <td>2946</td>\n",
       "      <td>4689</td>\n",
       "      <td>0.436245</td>\n",
       "      <td>[[0.0, 0.0, 0.0, 0.0, 0.0, 0.0, 0.0, 0.0, 0.0,...</td>\n",
       "      <td>MQYKLILNGKTLKGETTTEAVDAATAEKVFKQYANDNGLTGEWTYD...</td>\n",
       "    </tr>\n",
       "  </tbody>\n",
       "</table>\n",
       "</div>"
      ],
      "text/plain": [
       "      Variants  HD  Count input  Count selected   Fitness   \n",
       "12083     LTGL   3         2946            4689  0.436245  \\\n",
       "\n",
       "                                         onehot_sequence   \n",
       "12083  [[0.0, 0.0, 0.0, 0.0, 0.0, 0.0, 0.0, 0.0, 0.0,...  \\\n",
       "\n",
       "                                           full_sequence  \n",
       "12083  MQYKLILNGKTLKGETTTEAVDAATAEKVFKQYANDNGLTGEWTYD...  "
      ]
     },
     "execution_count": 17,
     "metadata": {},
     "output_type": "execute_result"
    }
   ],
   "source": [
    "variant_prediction"
   ]
  },
  {
   "cell_type": "code",
   "execution_count": 20,
   "metadata": {},
   "outputs": [
    {
     "name": "stderr",
     "output_type": "stream",
     "text": [
      "Downloading: \"https://zenodo.org/record/6564798/files/carp_640M.pt?download=1\" to /Users/esmirmesic/.cache/torch/hub/checkpoints/carp_640M.pt\n"
     ]
    }
   ],
   "source": [
    "model, collater = load_model_and_alphabet('carp_640M')"
   ]
  },
  {
   "cell_type": "code",
   "execution_count": null,
   "metadata": {},
   "outputs": [],
   "source": [
    "from sequence_models.pdb_utils import parse_PDB, process_coords\n",
    "coords, wt, _ = parse_PDB('examples/gb1_a60fb_unrelaxed_rank_1_model_5.pdb')\n",
    "coords = {\n",
    "        'N': coords[:, 0],\n",
    "        'CA': coords[:, 1],\n",
    "        'C': coords[:, 2]\n",
    "    }\n",
    "dist, omega, theta, phi = process_coords(coords)\n",
    "batch = [[wt, torch.tensor(dist, dtype=torch.float),\n",
    "          torch.tensor(omega, dtype=torch.float),\n",
    "          torch.tensor(theta, dtype=torch.float), torch.tensor(phi, dtype=torch.float)]]\n",
    "src, nodes, edges, connections, edge_mask = collater(batch)\n",
    "# can use result='repr' or result='logits'. Default is 'repr'.\n",
    "rep = model(src, nodes, edges, connections, edge_mask)  "
   ]
  },
  {
   "attachments": {},
   "cell_type": "markdown",
   "metadata": {},
   "source": [
    "# What progress has been done"
   ]
  },
  {
   "attachments": {},
   "cell_type": "markdown",
   "metadata": {},
   "source": [
    "So far, we have preprocessed the data, implemented ESM for inference using the pretrained model, implemented functions to extract fitness from predicted variants, and have started to implement CARP.\n",
    "\n",
    "In addition to the above, we have done some research into how to fine-tune ESM for our purposes and also what other datasets we can bring in that could give us similar insights to GB1. \n"
   ]
  },
  {
   "attachments": {},
   "cell_type": "markdown",
   "metadata": {},
   "source": [
    "# Challenges"
   ]
  },
  {
   "attachments": {},
   "cell_type": "markdown",
   "metadata": {},
   "source": [
    "There was little documentation on how to get the actual sequences out of the ESM model, so we used a combination of the internet and chat-gpt to get us through it and we think what we have makes sense. \n",
    "\n",
    "Additonally, getting models to work locally has been a challenge sine we both have M1/M2 macbooks which have some glitches with newer versions of pytorch and python. This also took a long time to debug. Later on, when we bring in larger ESM and CARP models and more data we will likely run it on the class cluster.\n",
    "\n",
    "Finally, We are having trouble finding documentation on doing masked sequence prediction with CARP and are currently researching more into this.\n"
   ]
  },
  {
   "attachments": {},
   "cell_type": "markdown",
   "metadata": {},
   "source": [
    "# Next steps"
   ]
  },
  {
   "attachments": {},
   "cell_type": "markdown",
   "metadata": {},
   "source": [
    "Our next steps are to implement fine-tuning for ESM so that we can run comparisons to the pre-trained and the fine-tuned ESM for different model sizes and get a wide range of comparisons.\n",
    "\n",
    "We are also working on finding other datasets to bring in to compare to the performance on the GB1 dataset.\n",
    "\n",
    "Finally, we are in the process of implementing Microsoft's CARP model for this task and will likely have it ready by early next week."
   ]
  },
  {
   "attachments": {},
   "cell_type": "markdown",
   "metadata": {},
   "source": []
  }
 ],
 "metadata": {
  "kernelspec": {
   "display_name": "cs144",
   "language": "python",
   "name": "python3"
  },
  "language_info": {
   "codemirror_mode": {
    "name": "ipython",
    "version": 3
   },
   "file_extension": ".py",
   "mimetype": "text/x-python",
   "name": "python",
   "nbconvert_exporter": "python",
   "pygments_lexer": "ipython3",
   "version": "3.11.0"
  },
  "orig_nbformat": 4
 },
 "nbformat": 4,
 "nbformat_minor": 2
}
